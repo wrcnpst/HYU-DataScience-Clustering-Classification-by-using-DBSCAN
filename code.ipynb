{
 "cells": [
  {
   "cell_type": "code",
   "execution_count": 2,
   "metadata": {},
   "outputs": [],
   "source": [
    "import pandas as pd\n",
    "import numpy as np\n",
    "import sys\n",
    "import os\n",
    "from collections import Counter"
   ]
  },
  {
   "cell_type": "code",
   "execution_count": 3,
   "metadata": {},
   "outputs": [],
   "source": [
    "input_file = \"Assignment_3_files\\Assignment 3 input data\\input1.txt\"\n",
    "n_clusters = 8\n",
    "eps = 15\n",
    "minPts = 22"
   ]
  },
  {
   "cell_type": "code",
   "execution_count": 4,
   "metadata": {},
   "outputs": [],
   "source": [
    "# Load the data from a text file\n",
    "data = pd.read_csv(input_file, sep='\\t', header=None, names=['object_id', 'x', 'y'])\n",
    "\n",
    "# Convert the data into a 2D numpy array\n",
    "X = data[['x', 'y']].values"
   ]
  },
  {
   "cell_type": "code",
   "execution_count": 5,
   "metadata": {},
   "outputs": [],
   "source": [
    "# Define Euclidean distance function\n",
    "def euclidean_distance(a, b):\n",
    "    return np.linalg.norm(a - b)\n",
    "\n",
    "# Define range query function\n",
    "def range_query(DB, distFunc, Q, eps):\n",
    "    neighbors = []\n",
    "    for P in range(len(DB)):\n",
    "        if distFunc(DB[P], DB[Q]) < eps:\n",
    "            neighbors.append(P)\n",
    "    return neighbors\n",
    "\n",
    "# Define DBSCAN function\n",
    "def dbscan(DB, distFunc, eps, minPts):\n",
    "    C = 0\n",
    "    labels = [0]*len(DB)\n",
    "\n",
    "    for P in range(len(DB)):\n",
    "        if not (labels[P] == 0):\n",
    "            continue\n",
    "        neighbors = range_query(DB, distFunc, P, eps)\n",
    "        if len(neighbors) < minPts:\n",
    "            labels[P] = -1\n",
    "            continue\n",
    "        C += 1\n",
    "        labels[P] = C\n",
    "        seed_set = [n for n in neighbors if n != P]\n",
    "        for Q in seed_set:\n",
    "            if labels[Q] == -1:\n",
    "                labels[Q] = C\n",
    "            if labels[Q] != 0:\n",
    "                continue\n",
    "            labels[Q] = C\n",
    "            neighbors = range_query(DB, distFunc, Q, eps)\n",
    "            if len(neighbors) >= minPts:\n",
    "                seed_set += neighbors\n",
    "    return labels"
   ]
  },
  {
   "cell_type": "code",
   "execution_count": 6,
   "metadata": {},
   "outputs": [],
   "source": [
    "labels = dbscan(X, euclidean_distance, eps, minPts)"
   ]
  },
  {
   "cell_type": "code",
   "execution_count": null,
   "metadata": {},
   "outputs": [],
   "source": [
    "labels"
   ]
  },
  {
   "cell_type": "code",
   "execution_count": 7,
   "metadata": {},
   "outputs": [
    {
     "data": {
      "text/html": [
       "<div>\n",
       "<style scoped>\n",
       "    .dataframe tbody tr th:only-of-type {\n",
       "        vertical-align: middle;\n",
       "    }\n",
       "\n",
       "    .dataframe tbody tr th {\n",
       "        vertical-align: top;\n",
       "    }\n",
       "\n",
       "    .dataframe thead th {\n",
       "        text-align: right;\n",
       "    }\n",
       "</style>\n",
       "<table border=\"1\" class=\"dataframe\">\n",
       "  <thead>\n",
       "    <tr style=\"text-align: right;\">\n",
       "      <th></th>\n",
       "      <th>object_id</th>\n",
       "      <th>x</th>\n",
       "      <th>y</th>\n",
       "      <th>cluster</th>\n",
       "    </tr>\n",
       "  </thead>\n",
       "  <tbody>\n",
       "    <tr>\n",
       "      <th>0</th>\n",
       "      <td>0</td>\n",
       "      <td>84.768997</td>\n",
       "      <td>33.368999</td>\n",
       "      <td>1</td>\n",
       "    </tr>\n",
       "    <tr>\n",
       "      <th>1</th>\n",
       "      <td>1</td>\n",
       "      <td>569.791016</td>\n",
       "      <td>55.458000</td>\n",
       "      <td>2</td>\n",
       "    </tr>\n",
       "    <tr>\n",
       "      <th>2</th>\n",
       "      <td>2</td>\n",
       "      <td>657.622986</td>\n",
       "      <td>47.035000</td>\n",
       "      <td>2</td>\n",
       "    </tr>\n",
       "    <tr>\n",
       "      <th>3</th>\n",
       "      <td>3</td>\n",
       "      <td>217.057007</td>\n",
       "      <td>362.065002</td>\n",
       "      <td>3</td>\n",
       "    </tr>\n",
       "    <tr>\n",
       "      <th>4</th>\n",
       "      <td>4</td>\n",
       "      <td>131.723999</td>\n",
       "      <td>353.368988</td>\n",
       "      <td>3</td>\n",
       "    </tr>\n",
       "    <tr>\n",
       "      <th>...</th>\n",
       "      <td>...</td>\n",
       "      <td>...</td>\n",
       "      <td>...</td>\n",
       "      <td>...</td>\n",
       "    </tr>\n",
       "    <tr>\n",
       "      <th>7995</th>\n",
       "      <td>7995</td>\n",
       "      <td>384.888000</td>\n",
       "      <td>273.808014</td>\n",
       "      <td>5</td>\n",
       "    </tr>\n",
       "    <tr>\n",
       "      <th>7996</th>\n",
       "      <td>7996</td>\n",
       "      <td>371.938995</td>\n",
       "      <td>70.299004</td>\n",
       "      <td>1</td>\n",
       "    </tr>\n",
       "    <tr>\n",
       "      <th>7997</th>\n",
       "      <td>7997</td>\n",
       "      <td>37.887001</td>\n",
       "      <td>79.575996</td>\n",
       "      <td>1</td>\n",
       "    </tr>\n",
       "    <tr>\n",
       "      <th>7998</th>\n",
       "      <td>7998</td>\n",
       "      <td>175.552994</td>\n",
       "      <td>76.314003</td>\n",
       "      <td>1</td>\n",
       "    </tr>\n",
       "    <tr>\n",
       "      <th>7999</th>\n",
       "      <td>7999</td>\n",
       "      <td>226.192001</td>\n",
       "      <td>115.615997</td>\n",
       "      <td>4</td>\n",
       "    </tr>\n",
       "  </tbody>\n",
       "</table>\n",
       "<p>8000 rows × 4 columns</p>\n",
       "</div>"
      ],
      "text/plain": [
       "      object_id           x           y  cluster\n",
       "0             0   84.768997   33.368999        1\n",
       "1             1  569.791016   55.458000        2\n",
       "2             2  657.622986   47.035000        2\n",
       "3             3  217.057007  362.065002        3\n",
       "4             4  131.723999  353.368988        3\n",
       "...         ...         ...         ...      ...\n",
       "7995       7995  384.888000  273.808014        5\n",
       "7996       7996  371.938995   70.299004        1\n",
       "7997       7997   37.887001   79.575996        1\n",
       "7998       7998  175.552994   76.314003        1\n",
       "7999       7999  226.192001  115.615997        4\n",
       "\n",
       "[8000 rows x 4 columns]"
      ]
     },
     "execution_count": 7,
     "metadata": {},
     "output_type": "execute_result"
    }
   ],
   "source": [
    "data['cluster'] = labels\n",
    "data"
   ]
  },
  {
   "cell_type": "code",
   "execution_count": 8,
   "metadata": {},
   "outputs": [
    {
     "name": "stdout",
     "output_type": "stream",
     "text": [
      "Done cluster_counts:  Counter({5: 1596, 2: 1593, 1: 1481, 3: 1458, 4: 1124, -1: 444, 6: 177, 8: 34, 9: 34, 7: 22, 11: 22, 10: 15})\n",
      "Done output_dir:  Assignment_3_files\\Assignment 3 input data\\input1\n",
      "Done separate file:  Assignment_3_files\\Assignment 3 input data\\input1 1\n",
      "Done separate file:  Assignment_3_files\\Assignment 3 input data\\input1 2\n",
      "Done separate file:  Assignment_3_files\\Assignment 3 input data\\input1 3\n",
      "Done separate file:  Assignment_3_files\\Assignment 3 input data\\input1 4\n",
      "Done separate file:  Assignment_3_files\\Assignment 3 input data\\input1 5\n",
      "Done separate file:  Assignment_3_files\\Assignment 3 input data\\input1 6\n",
      "Done separate file:  Assignment_3_files\\Assignment 3 input data\\input1 7\n",
      "Done separate file:  Assignment_3_files\\Assignment 3 input data\\input1 8\n",
      "Done separate file:  Assignment_3_files\\Assignment 3 input data\\input1 9\n",
      "Done separate file:  Assignment_3_files\\Assignment 3 input data\\input1 10\n",
      "Done separate file:  Assignment_3_files\\Assignment 3 input data\\input1 11\n"
     ]
    }
   ],
   "source": [
    "# Count number of points in each cluster\n",
    "cluster_counts = Counter(labels)\n",
    "\n",
    "print('Done cluster_counts: ', cluster_counts)\n",
    "\n",
    "# If there are more than n_clusters, remove the smallest ones\n",
    "if len(cluster_counts) > n_clusters:\n",
    "    smallest_clusters = [cluster for cluster, count in cluster_counts.most_common()[:-n_clusters-1:-1]]\n",
    "    labels = [label if label not in smallest_clusters else -1 for label in labels]\n",
    "\n",
    "# Create output directory if it doesn't exist\n",
    "output_dir = os.path.splitext(input_file)[0]\n",
    "os.makedirs(output_dir, exist_ok=True)\n",
    "print('Done output_dir: ', output_dir)\n",
    "\n",
    "# Output each cluster to a separate file\n",
    "for cluster in set(labels):\n",
    "    if cluster == -1:  # Skip noise points\n",
    "        continue\n",
    "    with open(f\"{output_dir}_cluster_{cluster}.txt\", 'w') as f:\n",
    "        for i, label in enumerate(labels):\n",
    "            if label == cluster:\n",
    "                f.write(f\"{data.iloc[i]['object_id']}\\n\")\n",
    "    print('Done separate file: ', output_dir, cluster)"
   ]
  },
  {
   "cell_type": "code",
   "execution_count": 19,
   "metadata": {},
   "outputs": [
    {
     "data": {
      "text/plain": [
       "<Figure size 800x800 with 0 Axes>"
      ]
     },
     "execution_count": 19,
     "metadata": {},
     "output_type": "execute_result"
    },
    {
     "data": {
      "text/plain": [
       "<Figure size 800x800 with 0 Axes>"
      ]
     },
     "metadata": {},
     "output_type": "display_data"
    }
   ],
   "source": [
    "import matplotlib.pyplot as plt\n",
    "\n",
    "# DBSCAN implementation here and label generation...\n",
    "\n",
    "# Then, plot the results:\n",
    "plt.figure(figsize=(8, 8))\n",
    "\n",
    "# Scatter plot of the data points\n",
    "unique_labels = set(labels)\n",
    "colors = [plt.cm.Spectral(each) for each in np.linspace(0, 1, len(unique_labels))]\n",
    "\n",
    "for k, col in zip(unique_labels, colors):\n",
    "    if k == -1:\n",
    "        # Black used for noise.\n",
    "        col = [0, 0, 0, 1]\n",
    "\n",
    "    class_member_mask = (labels == k)\n",
    "\n",
    "    xy = X[class_member_mask]\n",
    "    plt.plot(xy[:, 0], xy[:, 1], 'o', markerfacecolor=tuple(col), markersize=8)\n",
    "\n",
    "max_val_x = data['x'].max()\n",
    "min_val_x = data['x'].min()\n",
    "\n",
    "max_val_y = data['y'].max()\n",
    "min_val_y = data['y'].min()\n",
    "\n",
    "max_val = max(max_val_x, max_val_y)\n",
    "min_val = min(min_val_x, min_val_y)\n",
    "\n",
    "plt.xlim(min_val, max_val)\n",
    "plt.ylim(min_val, max_val)\n",
    "\n",
    "plt.title('DBSCAN clustering')\n",
    "plt.show()\n"
   ]
  },
  {
   "cell_type": "code",
   "execution_count": 20,
   "metadata": {},
   "outputs": [
    {
     "data": {
      "text/plain": [
       "{-1, 1, 2, 3, 4, 5, 6, 7, 8, 9, 10, 11}"
      ]
     },
     "execution_count": 20,
     "metadata": {},
     "output_type": "execute_result"
    }
   ],
   "source": [
    "unique_labels"
   ]
  }
 ],
 "metadata": {
  "kernelspec": {
   "display_name": "Python 3",
   "language": "python",
   "name": "python3"
  },
  "language_info": {
   "codemirror_mode": {
    "name": "ipython",
    "version": 3
   },
   "file_extension": ".py",
   "mimetype": "text/x-python",
   "name": "python",
   "nbconvert_exporter": "python",
   "pygments_lexer": "ipython3",
   "version": "3.10.11"
  },
  "orig_nbformat": 4
 },
 "nbformat": 4,
 "nbformat_minor": 2
}
